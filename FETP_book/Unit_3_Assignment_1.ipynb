{
 "cells": [
  {
   "cell_type": "markdown",
   "metadata": {
    "tags": [],
    "user_expressions": []
   },
   "source": [
    "# Assignment 1"
   ]
  },
  {
   "cell_type": "markdown",
   "metadata": {},
   "source": [
    "Following your surveillance summary report on the recent measles outbreak, your supervisor indicates that resources may be available to support your proposed investigation. Before beginning your investigation, your supervisor would like to see your data analysis plan. In addition, he shared several questions that he wants the plan to answer. \n"
   ]
  },
  {
   "cell_type": "markdown",
   "metadata": {},
   "source": [
    "Review your data analysis plan:"
   ]
  },
  {
   "cell_type": "code",
   "execution_count": null,
   "metadata": {
    "tags": [
     "remove-input"
    ]
   },
   "outputs": [],
   "source": [
    "import ipywidgets as widgets\n",
    "from IPython.display import display\n",
    "\n",
    "# Define a simple table as a list of lists (rows and columns)\n",
    "table_data = [\n",
    "    [\"Name\", \"Age\", \"City\"],\n",
    "    [\"John\", 28, \"New York\"],\n",
    "    [\"Alice\", 35, \"Los Angeles\"],\n",
    "    [\"Bob\", 23, \"Chicago\"]\n",
    "]\n",
    "\n",
    "# Create a set of Text widgets for each cell\n",
    "text_widgets = {}\n",
    "for row_idx, row in enumerate(table_data):\n",
    "    for col_idx, value in enumerate(row):\n",
    "        widget = widgets.Text(value=str(value), description=f\"Row {row_idx+1}, Col {col_idx+1}\")\n",
    "        text_widgets[(row_idx, col_idx)] = widget\n",
    "\n",
    "# Display the widgets\n",
    "for row_idx in range(len(table_data)):\n",
    "    row_widgets = [text_widgets[(row_idx, col_idx)] for col_idx in range(len(table_data[row_idx]))]\n",
    "    display(*row_widgets)\n"
   ]
  },
  {
   "cell_type": "code",
   "execution_count": null,
   "metadata": {
    "tags": [
     "remove-input"
    ]
   },
   "outputs": [],
   "source": [
    "import qgrid\n",
    "import pandas as pd\n",
    "\n",
    "# Create a pandas DataFrame\n",
    "data = {\n",
    "    'Name': ['John', 'Alice', 'Bob'],\n",
    "    'Age': [28, 35, 23],\n",
    "    'City': ['New York', 'Los Angeles', 'Chicago']\n",
    "}\n",
    "df = pd.DataFrame(data)\n",
    "\n",
    "# Initialize the qgrid widget and display the DataFrame interactively\n",
    "qgrid_widget = qgrid.show_grid(df, show_toolbar=True)\n",
    "qgrid_widget\n"
   ]
  },
  {
   "cell_type": "markdown",
   "metadata": {},
   "source": [
    "# Measles Outbreak Investigation Data Analysis Plan\n",
    "\n",
    "## Investigation Objective(s):\n",
    "- Describe the measles outbreak by person, place, and time.\n",
    "- Describe the risk factors.\n",
    "\n",
    "## Variables:\n",
    "- **Age**, **sex**, **occupation**\n",
    "- **Clinical**: symptoms, date of onset of symptoms, outcome/status (alive/dead)\n",
    "- **Laboratory**: test results\n",
    "- **Confirmation status**\n",
    "- **Vaccination status**, number of doses\n",
    "- **Residence** (district, village), health facility/organization unit\n",
    "- **Travel history** (date and location)\n",
    "\n",
    "## Data Sources:\n",
    "- Surveillance data\n",
    "- Clinical\n",
    "- Immunization\n",
    "- Laboratory\n",
    "- Census\n",
    "\n",
    "## Table 1: General Characteristics of Cases (by person)\n",
    "\n",
    "| Variable                     | Number | Percent |\n",
    "| ----------------------------- | ------ | ------- |\n",
    "| Age                           |        |         |\n",
    "| Occupation                    |        |         |\n",
    "| Number of contacts            |        |         |\n",
    "| Diagnosis                     |        |         |\n",
    "| Vaccination Status            |        |         |\n",
    "| Number of vaccine doses       |        |         |\n",
    "| Reason for non-vaccination    |        |         |\n",
    "\n",
    "## Table 2: Demographic Characteristics of Cases\n",
    "\n",
    "| Age Group                  | Probable | Confirmed |\n",
    "| -------------------------- | -------- | --------- |\n",
    "| Under 1                    |          |           |\n",
    "| 12 months to 23 months     |          |           |\n",
    "| 2-5 years                  |          |           |\n",
    "| Above 5 years              |          |           |\n",
    "\n",
    "| Sex                        | Male     | Female    |\n",
    "| -------------------------- | -------- | --------- |\n",
    "|                            |          |           |\n",
    "\n",
    "## Table 3: Clinical Characteristics\n",
    "\n",
    "| Clinical Feature | Number | Percent |\n",
    "| ----------------- | ------ | ------- |\n",
    "| Fever             |        |         |\n",
    "| Other symptoms    |        |         |\n",
    "\n",
    "## Table 4: 2x2 Risk Ratio\n",
    "\n",
    "|                         | Sick | Not Sick | Totals |\n",
    "| ----------------------- | ---- | -------- | ------ |\n",
    "| **Exposed**              |      |          |        |\n",
    "| **Not Exposed**          |      |          |        |\n",
    "| **Totals**               |      |          |        |\n",
    "\n",
    "P value: __________\n",
    "\n",
    "Confidence Interval: __________\n",
    "\n",
    "## Figure 1: Geographical Distribution of Cases\n",
    "[Interactive map showing geographical distribution of cases]\n",
    "\n",
    "## Figure 2: Epi Curve by Date of Onset\n",
    "[Plot showing the number of cases over time]\n"
   ]
  }
 ],
 "metadata": {
  "finalized": {
   "timestamp": 1617199748724,
   "trusted": true
  },
  "kernelspec": {
   "display_name": "FETP_venv",
   "language": "python",
   "name": "python3"
  },
  "language_info": {
   "codemirror_mode": {
    "name": "ipython",
    "version": 3
   },
   "file_extension": ".py",
   "mimetype": "text/x-python",
   "name": "python",
   "nbconvert_exporter": "python",
   "pygments_lexer": "ipython3",
   "version": "3.12.4"
  }
 },
 "nbformat": 4,
 "nbformat_minor": 4
}
