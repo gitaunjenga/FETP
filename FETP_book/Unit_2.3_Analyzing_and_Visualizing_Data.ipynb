{
 "cells": [
  {
   "cell_type": "markdown",
   "metadata": {
    "tags": [],
    "user_expressions": []
   },
   "source": [
    "# Analyzing and visualizing the data using Excel"
   ]
  },
  {
   "cell_type": "markdown",
   "metadata": {},
   "source": [
    "![fishy](images/laila_analyze.png)"
   ]
  },
  {
   "cell_type": "markdown",
   "metadata": {},
   "source": [
    "--- "
   ]
  },
  {
   "cell_type": "markdown",
   "metadata": {},
   "source": [
    "### Decisions and Actions Laila Can Take"
   ]
  },
  {
   "cell_type": "markdown",
   "metadata": {},
   "source": [
    "- Select and perform the appropriate analyses\n",
    "- Use the appropriate software application features or functions to run the calculations or analyses\n",
    "- Use the right software application and its features to create simple and effective visualizations\n"
   ]
  },
  {
   "cell_type": "markdown",
   "metadata": {},
   "source": [
    "#### Tuberculosis: "
   ]
  },
  {
   "cell_type": "markdown",
   "metadata": {},
   "source": [
    "TB surveillance goals \n",
    "- Early detection of people with infectious lung disease to improve chances of clinical improvement and reduce transmission of TB\n",
    "- Improve percentage of TB cases confirmed by microscope\n"
   ]
  },
  {
   "cell_type": "markdown",
   "metadata": {},
   "source": [
    "Analyses\n",
    "- Time: Graph cases and deaths monthly\n",
    "- Place: Plot distribution of case households and workplaces\n",
    "- Person: Count monthly cases and deaths. Analyze age and sex distribution quarterly\n"
   ]
  },
  {
   "cell_type": "markdown",
   "metadata": {},
   "source": [
    "What Excel can do\n",
    "- Calculate the mode, median, mean, and range\n",
    "- Create a histogram or bar chart"
   ]
  },
  {
   "cell_type": "markdown",
   "metadata": {},
   "source": [
    "#### Using Excel to calculate measures \n"
   ]
  },
  {
   "cell_type": "markdown",
   "metadata": {},
   "source": [
    "Measures of central location"
   ]
  },
  {
   "cell_type": "markdown",
   "metadata": {},
   "source": [
    "- Mode\n",
    "- Median\n",
    "- Mean\n"
   ]
  },
  {
   "cell_type": "markdown",
   "metadata": {},
   "source": [
    "Measure of spread\n",
    "- Range"
   ]
  },
  {
   "cell_type": "markdown",
   "metadata": {},
   "source": [
    "Measures of frequency\n",
    "- Counts\n",
    "- Ratios\n",
    "- Proportions\n",
    "- Rates\n"
   ]
  },
  {
   "cell_type": "markdown",
   "metadata": {},
   "source": [
    "Excel Statistical Functions\n",
    "\n",
    "- AVERAGE – produces the mean or average of the cells within a range of cells.\n",
    "- MEDIAN – produces the value closest to the midpoint of the cells within a range.\n",
    "- MIN – displays the smallest value in the cell range.\n",
    "- MAX – displays the largest value in the cell range.\n",
    "- SUM – adds the values of each cell within its range.\n",
    "- COUNT – displays the number of cells in a range containing numbers.\n"
   ]
  },
  {
   "cell_type": "markdown",
   "metadata": {},
   "source": [
    "#### Creating and using data visualizations using Excel"
   ]
  },
  {
   "cell_type": "markdown",
   "metadata": {},
   "source": [
    "Data visualizations can be used to detect patterns, trends, and compare different data points.\n"
   ]
  },
  {
   "cell_type": "markdown",
   "metadata": {},
   "source": [
    "Example: \n",
    "- You want to use an epi curve to display the distribution of cases by date of onset and detect an increase in the frequency of cases, suggesting an outbreak.\n"
   ]
  },
  {
   "cell_type": "markdown",
   "metadata": {},
   "source": [
    "> Using your dataset in Excel, you use the Chart feature to select your data range and generate a histogram.\n"
   ]
  }
 ],
 "metadata": {
  "finalized": {
   "timestamp": 1617199748724,
   "trusted": true
  },
  "kernelspec": {
   "display_name": "FETP_venv",
   "language": "python",
   "name": "python3"
  },
  "language_info": {
   "codemirror_mode": {
    "name": "ipython",
    "version": 3
   },
   "file_extension": ".py",
   "mimetype": "text/x-python",
   "name": "python",
   "nbconvert_exporter": "python",
   "pygments_lexer": "ipython3",
   "version": "3.12.4"
  }
 },
 "nbformat": 4,
 "nbformat_minor": 4
}
