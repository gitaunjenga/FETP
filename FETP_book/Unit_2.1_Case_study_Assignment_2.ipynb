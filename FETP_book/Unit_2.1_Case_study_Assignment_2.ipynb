{
 "cells": [
  {
   "cell_type": "markdown",
   "metadata": {
    "tags": [],
    "user_expressions": []
   },
   "source": [
    "# Case Study Assignment 2"
   ]
  },
  {
   "cell_type": "markdown",
   "metadata": {},
   "source": [
    "Use the next 15 minutes to:\n",
    "\n",
    "- Use Excel and the Excel How-To Scribes to explore your dataset\n",
    "- Answer Question #3\n",
    "\n",
    "Be prepared to show how you arrived at your responses.\n"
   ]
  },
  {
   "cell_type": "markdown",
   "metadata": {},
   "source": [
    "---"
   ]
  },
  {
   "cell_type": "markdown",
   "metadata": {},
   "source": [
    "The network is down and you are unable to access this data using DHIS2. You discuss options with the district’s data manager and discover that she is able to provide you with a backup copy of the database and the DHIS2 data dictionary that you can open and work with in Excel."
   ]
  },
  {
   "cell_type": "markdown",
   "metadata": {},
   "source": [
    "**Question 3** "
   ]
  },
  {
   "cell_type": "markdown",
   "metadata": {},
   "source": [
    "Use Excel to explore and get to know this dataset. Describe the dataset provided by the data manager. \n"
   ]
  },
  {
   "cell_type": "markdown",
   "metadata": {},
   "source": [
    "- How big is this dataset?\n",
    "- What timeframe does the dataset span?\n",
    "    - How does this compare to the timeframe you are interested in?\n",
    "- What locations does the dataset include?\n",
    "    - How does this compare to the location(s) that you are interested in?\n",
    "- Who is included in the dataset?\n",
    "    - How does this compare to your population of interest?"
   ]
  }
 ],
 "metadata": {
  "finalized": {
   "timestamp": 1617199748724,
   "trusted": true
  },
  "kernelspec": {
   "display_name": "FETP_venv",
   "language": "python",
   "name": "python3"
  },
  "language_info": {
   "codemirror_mode": {
    "name": "ipython",
    "version": 3
   },
   "file_extension": ".py",
   "mimetype": "text/x-python",
   "name": "python",
   "nbconvert_exporter": "python",
   "pygments_lexer": "ipython3",
   "version": "3.12.4"
  }
 },
 "nbformat": 4,
 "nbformat_minor": 4
}
